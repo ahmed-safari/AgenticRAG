{
  "cells": [
    {
      "cell_type": "markdown",
      "metadata": {},
      "source": [
        "# Enhanced RAG (Retrieval Augmented Generation)\n",
        "\n",
        "This notebook demonstrates an improved RAG system capable of retrieving information from multiple sources and providing accurate responses based on the retrieved context."
      ]
    },
    {
      "cell_type": "code",
      "execution_count": 38,
      "metadata": {},
      "outputs": [],
      "source": [
        "# Install required packages\n",
        "# !pip install faiss-cpu mistralai beautifulsoup4 requests numpy"
      ]
    },
    {
      "cell_type": "markdown",
      "metadata": {},
      "source": [
        "## Load API key"
      ]
    },
    {
      "cell_type": "code",
      "execution_count": 39,
      "metadata": {},
      "outputs": [
        {
          "name": "stdout",
          "output_type": "stream",
          "text": [
            "MISTRAL_API_KEY: EyT0g8QsBRkMBaB5P9xinoG1hgXty8fy\n"
          ]
        }
      ],
      "source": [
        "import os\n",
        "import dotenv\n",
        "\n",
        "# Load from .env file if it exists\n",
        "dotenv.load_dotenv()\n",
        "\n",
        "# Set API key (replace with your own key or use environment variable)\n",
        "os.environ[\"MISTRAL_API_KEY\"] = \"\"  # Your key\n",
        "print(f\"MISTRAL_API_KEY: {os.environ.get('MISTRAL_API_KEY')}\")\n",
        "api_key = os.getenv(\"MISTRAL_API_KEY\")"
      ]
    },
    {
      "cell_type": "markdown",
      "metadata": {},
      "source": [
        "## Import required libraries"
      ]
    },
    {
      "cell_type": "code",
      "execution_count": 40,
      "metadata": {},
      "outputs": [],
      "source": [
        "import requests\n",
        "from bs4 import BeautifulSoup\n",
        "import re\n",
        "import numpy as np\n",
        "import faiss\n",
        "from mistralai import Mistral, UserMessage\n",
        "import time\n",
        "from urllib.parse import urlparse"
      ]
    },
    {
      "cell_type": "markdown",
      "metadata": {},
      "source": [
        "## Define utilities for fetching and processing web content"
      ]
    },
    {
      "cell_type": "code",
      "execution_count": 41,
      "metadata": {},
      "outputs": [],
      "source": [
        "def get_content_from_url(url):\n",
        "    \"\"\"\n",
        "    Fetch content from a given URL and extract the main text.\n",
        "    \"\"\"\n",
        "    try:\n",
        "        headers = {\n",
        "            'User-Agent': 'Mozilla/5.0 (Windows NT 10.0; Win64; x64) AppleWebKit/537.36 (KHTML, like Gecko) Chrome/91.0.4472.124 Safari/537.36'\n",
        "        }\n",
        "        response = requests.get(url, headers=headers, timeout=10)\n",
        "        response.raise_for_status()\n",
        "        \n",
        "        html_doc = response.text\n",
        "        soup = BeautifulSoup(html_doc, \"html.parser\")\n",
        "        \n",
        "        # Remove script and style elements\n",
        "        for script in soup([\"script\", \"style\", \"header\", \"footer\", \"nav\"]):\n",
        "            script.extract()\n",
        "        \n",
        "        # Extract text from main content areas\n",
        "        main_content = soup.find(\"main\") or soup.find(\"article\") or soup.find(\"div\", class_=\"content\") or soup.find(\"body\")\n",
        "        \n",
        "        if main_content:\n",
        "            text = main_content.get_text(separator='\\n', strip=True)\n",
        "        else:\n",
        "            text = soup.get_text(separator='\\n', strip=True)\n",
        "        \n",
        "        # Clean up the text\n",
        "        text = re.sub(r'\\n+', '\\n', text)\n",
        "        text = re.sub(r'\\s+', ' ', text)\n",
        "        \n",
        "        domain = urlparse(url).netloc\n",
        "        source_info = f\"Source: {domain} - {url}\"\n",
        "        \n",
        "        return text, source_info\n",
        "    except Exception as e:\n",
        "        print(f\"Error fetching content from {url}: {e}\")\n",
        "        return None, None"
      ]
    },
    {
      "cell_type": "markdown",
      "metadata": {},
      "source": [
        "## Gather data from multiple sources"
      ]
    },
    {
      "cell_type": "code",
      "execution_count": 42,
      "metadata": {},
      "outputs": [
        {
          "name": "stdout",
          "output_type": "stream",
          "text": [
            "Error fetching content from https://www.udst.edu.qa/about-udst/institutional-excellence-ie/policies-and-procedures/academic-integrity-policy: 404 Client Error: Not Found for url: https://www.udst.edu.qa/about-udst/institutional-excellence-ie/policies-and-procedures/academic-integrity-policy\n",
            "Processed 10 URLs successfully\n"
          ]
        }
      ],
      "source": [
        "# List of URLs to fetch content from\n",
        "urls = [\n",
        "    \"https://www.udst.edu.qa/about-udst/institutional-excellence-ie/policies-and-procedures/sport-and-wellness-facilities-and\", # Sport and Wellness\n",
        "    \"https://www.udst.edu.qa/about-udst/institutional-excellence-ie/policies-and-procedures/student-attendance-policy\", # Attendance\n",
        "    \"https://www.udst.edu.qa/about-udst/institutional-excellence-ie/policies-and-procedures/final-grade-policy\", # Final Grade\n",
        "    \"https://www.udst.edu.qa/about-udst/institutional-excellence-ie/policies-and-procedures/student-conduct-policy\", # Student Conduct,\n",
        "    \"https://www.udst.edu.qa/about-udst/institutional-excellence-ie/udst-policies-and-procedures/academic-schedule-policy\", # Academic Schedule,\n",
        "    \"https://www.udst.edu.qa/about-udst/institutional-excellence-ie/policies-and-procedures/student-appeals-policy\", # Student Appeals,\n",
        "    \"https://www.udst.edu.qa/about-udst/institutional-excellence-ie/policies-and-procedures/transfer-policy\", # Transfer Policy,\n",
        "    \"https://www.udst.edu.qa/about-udst/institutional-excellence-ie/policies-and-procedures/admissions-policy\", # Admissions Policy,\n",
        "    \"https://www.udst.edu.qa/about-udst/institutional-excellence-ie/policies-and-procedures/registration-policy\", # Registration Policy,\n",
        "    \"https://www.udst.edu.qa/about-udst/institutional-excellence-ie/udst-policies-and-procedures/graduation-policy\" # Graduation Policy\n",
        "]\n",
        "\n",
        "# Fetch content from each URL\n",
        "all_texts = []\n",
        "all_sources = []\n",
        "\n",
        "for url in urls:\n",
        "    text, source = get_content_from_url(url)\n",
        "    if text and len(text) > 100:  # Ensure we have meaningful content\n",
        "        all_texts.append(text)\n",
        "        all_sources.append(source)\n",
        "\n",
        "print(f\"Processed {len(all_texts)} URLs successfully\")\n",
        "\n",
        "# Save the combined text to a file\n",
        "combined_text = \"\\n\\n---\\n\\n\".join(all_texts)\n",
        "file_name = \"assets/combined_documents.txt\"\n",
        "with open(file_name, 'w', encoding='utf-8') as file:\n",
        "    file.write(combined_text)"
      ]
    },
    {
      "cell_type": "markdown",
      "metadata": {},
      "source": [
        "## Chunk the text with overlap for better context preservation"
      ]
    },
    {
      "cell_type": "code",
      "execution_count": 43,
      "metadata": {},
      "outputs": [],
      "source": [
        "def chunk_text(text, chunk_size=512, overlap=100):\n",
        "    \"\"\"\n",
        "    Split the text into overlapping chunks to maintain context across chunks.\n",
        "    \"\"\"\n",
        "    chunks = []\n",
        "    chunk_sources = []\n",
        "    \n",
        "    for i, doc_text in enumerate(all_texts):\n",
        "        # Ensure the document has enough content to be worthwhile\n",
        "        if len(doc_text) < 50:\n",
        "            continue\n",
        "            \n",
        "        # Create overlapping chunks\n",
        "        doc_chunks = []\n",
        "        start = 0\n",
        "        while start < len(doc_text):\n",
        "            end = min(start + chunk_size, len(doc_text))\n",
        "            doc_chunks.append(doc_text[start:end])\n",
        "            start += chunk_size - overlap\n",
        "            \n",
        "        chunks.extend(doc_chunks)\n",
        "        chunk_sources.extend([all_sources[i]] * len(doc_chunks))\n",
        "    \n",
        "    return chunks, chunk_sources\n",
        "\n",
        "chunks, chunk_sources = chunk_text(all_texts)"
      ]
    },
    {
      "cell_type": "markdown",
      "metadata": {},
      "source": [
        "## Get embeddings using Mistral API"
      ]
    },
    {
      "cell_type": "code",
      "execution_count": 44,
      "metadata": {},
      "outputs": [],
      "source": [
        "def get_text_embedding(list_txt_chunks, batch_size=20):\n",
        "    \"\"\"\n",
        "    Get embeddings for text chunks, with batching to avoid rate limits\n",
        "    \"\"\"\n",
        "    client = Mistral(api_key=api_key)\n",
        "    all_embeddings = []\n",
        "    \n",
        "    # Process in batches to avoid rate limits\n",
        "    for i in range(0, len(list_txt_chunks), batch_size):\n",
        "        batch = list_txt_chunks[i:i+batch_size]\n",
        "        try:\n",
        "            embeddings_batch_response = client.embeddings.create(model=\"mistral-embed\", inputs=batch)\n",
        "            all_embeddings.extend(embeddings_batch_response.data)\n",
        "            # Add a small delay to avoid hitting rate limits\n",
        "            time.sleep(1)  \n",
        "        except Exception as e:\n",
        "            print(f\"Error getting embeddings for batch {i}:{i+batch_size}: {e}\")\n",
        "            # Add empty embeddings as placeholders\n",
        "            for _ in range(len(batch)):\n",
        "                all_embeddings.append(None)\n",
        "    \n",
        "    return all_embeddings"
      ]
    },
    {
      "cell_type": "code",
      "execution_count": 45,
      "metadata": {},
      "outputs": [
        {
          "name": "stdout",
          "output_type": "stream",
          "text": [
            "['Source: www.udst.edu.qa - https://www.udst.edu.qa/about-udst/institutional-excellence-ie/policies-and-procedures/sport-and-wellness-facilities-and', 'Source: www.udst.edu.qa - https://www.udst.edu.qa/about-udst/institutional-excellence-ie/policies-and-procedures/sport-and-wellness-facilities-and', 'Source: www.udst.edu.qa - https://www.udst.edu.qa/about-udst/institutional-excellence-ie/policies-and-procedures/sport-and-wellness-facilities-and', 'Source: www.udst.edu.qa - https://www.udst.edu.qa/about-udst/institutional-excellence-ie/policies-and-procedures/sport-and-wellness-facilities-and', 'Source: www.udst.edu.qa - https://www.udst.edu.qa/about-udst/institutional-excellence-ie/policies-and-procedures/sport-and-wellness-facilities-and', 'Source: www.udst.edu.qa - https://www.udst.edu.qa/about-udst/institutional-excellence-ie/policies-and-procedures/sport-and-wellness-facilities-and', 'Source: www.udst.edu.qa - https://www.udst.edu.qa/about-udst/institutional-excellence-ie/policies-and-procedures/sport-and-wellness-facilities-and', 'Source: www.udst.edu.qa - https://www.udst.edu.qa/about-udst/institutional-excellence-ie/policies-and-procedures/sport-and-wellness-facilities-and', 'Source: www.udst.edu.qa - https://www.udst.edu.qa/about-udst/institutional-excellence-ie/policies-and-procedures/sport-and-wellness-facilities-and', 'Source: www.udst.edu.qa - https://www.udst.edu.qa/about-udst/institutional-excellence-ie/policies-and-procedures/sport-and-wellness-facilities-and', 'Source: www.udst.edu.qa - https://www.udst.edu.qa/about-udst/institutional-excellence-ie/policies-and-procedures/sport-and-wellness-facilities-and', 'Source: www.udst.edu.qa - https://www.udst.edu.qa/about-udst/institutional-excellence-ie/policies-and-procedures/sport-and-wellness-facilities-and', 'Source: www.udst.edu.qa - https://www.udst.edu.qa/about-udst/institutional-excellence-ie/policies-and-procedures/sport-and-wellness-facilities-and', 'Source: www.udst.edu.qa - https://www.udst.edu.qa/about-udst/institutional-excellence-ie/policies-and-procedures/sport-and-wellness-facilities-and', 'Source: www.udst.edu.qa - https://www.udst.edu.qa/about-udst/institutional-excellence-ie/policies-and-procedures/sport-and-wellness-facilities-and', 'Source: www.udst.edu.qa - https://www.udst.edu.qa/about-udst/institutional-excellence-ie/policies-and-procedures/sport-and-wellness-facilities-and', 'Source: www.udst.edu.qa - https://www.udst.edu.qa/about-udst/institutional-excellence-ie/policies-and-procedures/sport-and-wellness-facilities-and', 'Source: www.udst.edu.qa - https://www.udst.edu.qa/about-udst/institutional-excellence-ie/policies-and-procedures/sport-and-wellness-facilities-and', 'Source: www.udst.edu.qa - https://www.udst.edu.qa/about-udst/institutional-excellence-ie/policies-and-procedures/sport-and-wellness-facilities-and', 'Source: www.udst.edu.qa - https://www.udst.edu.qa/about-udst/institutional-excellence-ie/policies-and-procedures/sport-and-wellness-facilities-and', 'Source: www.udst.edu.qa - https://www.udst.edu.qa/about-udst/institutional-excellence-ie/policies-and-procedures/sport-and-wellness-facilities-and', 'Source: www.udst.edu.qa - https://www.udst.edu.qa/about-udst/institutional-excellence-ie/policies-and-procedures/sport-and-wellness-facilities-and', 'Source: www.udst.edu.qa - https://www.udst.edu.qa/about-udst/institutional-excellence-ie/policies-and-procedures/sport-and-wellness-facilities-and', 'Source: www.udst.edu.qa - https://www.udst.edu.qa/about-udst/institutional-excellence-ie/policies-and-procedures/sport-and-wellness-facilities-and', 'Source: www.udst.edu.qa - https://www.udst.edu.qa/about-udst/institutional-excellence-ie/policies-and-procedures/sport-and-wellness-facilities-and', 'Source: www.udst.edu.qa - https://www.udst.edu.qa/about-udst/institutional-excellence-ie/policies-and-procedures/sport-and-wellness-facilities-and', 'Source: www.udst.edu.qa - https://www.udst.edu.qa/about-udst/institutional-excellence-ie/policies-and-procedures/sport-and-wellness-facilities-and', 'Source: www.udst.edu.qa - https://www.udst.edu.qa/about-udst/institutional-excellence-ie/policies-and-procedures/sport-and-wellness-facilities-and', 'Source: www.udst.edu.qa - https://www.udst.edu.qa/about-udst/institutional-excellence-ie/policies-and-procedures/sport-and-wellness-facilities-and', 'Source: www.udst.edu.qa - https://www.udst.edu.qa/about-udst/institutional-excellence-ie/policies-and-procedures/sport-and-wellness-facilities-and', 'Source: www.udst.edu.qa - https://www.udst.edu.qa/about-udst/institutional-excellence-ie/policies-and-procedures/sport-and-wellness-facilities-and', 'Source: www.udst.edu.qa - https://www.udst.edu.qa/about-udst/institutional-excellence-ie/policies-and-procedures/sport-and-wellness-facilities-and', 'Source: www.udst.edu.qa - https://www.udst.edu.qa/about-udst/institutional-excellence-ie/policies-and-procedures/sport-and-wellness-facilities-and', 'Source: www.udst.edu.qa - https://www.udst.edu.qa/about-udst/institutional-excellence-ie/policies-and-procedures/sport-and-wellness-facilities-and', 'Source: www.udst.edu.qa - https://www.udst.edu.qa/about-udst/institutional-excellence-ie/policies-and-procedures/sport-and-wellness-facilities-and', 'Source: www.udst.edu.qa - https://www.udst.edu.qa/about-udst/institutional-excellence-ie/policies-and-procedures/sport-and-wellness-facilities-and', 'Source: www.udst.edu.qa - https://www.udst.edu.qa/about-udst/institutional-excellence-ie/policies-and-procedures/sport-and-wellness-facilities-and', 'Source: www.udst.edu.qa - https://www.udst.edu.qa/about-udst/institutional-excellence-ie/policies-and-procedures/sport-and-wellness-facilities-and', 'Source: www.udst.edu.qa - https://www.udst.edu.qa/about-udst/institutional-excellence-ie/policies-and-procedures/sport-and-wellness-facilities-and', 'Source: www.udst.edu.qa - https://www.udst.edu.qa/about-udst/institutional-excellence-ie/policies-and-procedures/sport-and-wellness-facilities-and', 'Source: www.udst.edu.qa - https://www.udst.edu.qa/about-udst/institutional-excellence-ie/policies-and-procedures/sport-and-wellness-facilities-and', 'Source: www.udst.edu.qa - https://www.udst.edu.qa/about-udst/institutional-excellence-ie/policies-and-procedures/sport-and-wellness-facilities-and', 'Source: www.udst.edu.qa - https://www.udst.edu.qa/about-udst/institutional-excellence-ie/policies-and-procedures/sport-and-wellness-facilities-and', 'Source: www.udst.edu.qa - https://www.udst.edu.qa/about-udst/institutional-excellence-ie/policies-and-procedures/sport-and-wellness-facilities-and', 'Source: www.udst.edu.qa - https://www.udst.edu.qa/about-udst/institutional-excellence-ie/policies-and-procedures/sport-and-wellness-facilities-and', 'Source: www.udst.edu.qa - https://www.udst.edu.qa/about-udst/institutional-excellence-ie/policies-and-procedures/sport-and-wellness-facilities-and', 'Source: www.udst.edu.qa - https://www.udst.edu.qa/about-udst/institutional-excellence-ie/policies-and-procedures/sport-and-wellness-facilities-and', 'Source: www.udst.edu.qa - https://www.udst.edu.qa/about-udst/institutional-excellence-ie/policies-and-procedures/sport-and-wellness-facilities-and', 'Source: www.udst.edu.qa - https://www.udst.edu.qa/about-udst/institutional-excellence-ie/policies-and-procedures/sport-and-wellness-facilities-and', 'Source: www.udst.edu.qa - https://www.udst.edu.qa/about-udst/institutional-excellence-ie/policies-and-procedures/sport-and-wellness-facilities-and', 'Source: www.udst.edu.qa - https://www.udst.edu.qa/about-udst/institutional-excellence-ie/policies-and-procedures/sport-and-wellness-facilities-and', 'Source: www.udst.edu.qa - https://www.udst.edu.qa/about-udst/institutional-excellence-ie/policies-and-procedures/sport-and-wellness-facilities-and', 'Source: www.udst.edu.qa - https://www.udst.edu.qa/about-udst/institutional-excellence-ie/policies-and-procedures/sport-and-wellness-facilities-and', 'Source: www.udst.edu.qa - https://www.udst.edu.qa/about-udst/institutional-excellence-ie/policies-and-procedures/sport-and-wellness-facilities-and', 'Source: www.udst.edu.qa - https://www.udst.edu.qa/about-udst/institutional-excellence-ie/policies-and-procedures/sport-and-wellness-facilities-and', 'Source: www.udst.edu.qa - https://www.udst.edu.qa/about-udst/institutional-excellence-ie/policies-and-procedures/student-attendance-policy', 'Source: www.udst.edu.qa - https://www.udst.edu.qa/about-udst/institutional-excellence-ie/policies-and-procedures/student-attendance-policy', 'Source: www.udst.edu.qa - https://www.udst.edu.qa/about-udst/institutional-excellence-ie/policies-and-procedures/student-attendance-policy', 'Source: www.udst.edu.qa - https://www.udst.edu.qa/about-udst/institutional-excellence-ie/policies-and-procedures/student-attendance-policy', 'Source: www.udst.edu.qa - https://www.udst.edu.qa/about-udst/institutional-excellence-ie/policies-and-procedures/student-attendance-policy', 'Source: www.udst.edu.qa - https://www.udst.edu.qa/about-udst/institutional-excellence-ie/policies-and-procedures/student-attendance-policy', 'Source: www.udst.edu.qa - https://www.udst.edu.qa/about-udst/institutional-excellence-ie/policies-and-procedures/student-attendance-policy', 'Source: www.udst.edu.qa - https://www.udst.edu.qa/about-udst/institutional-excellence-ie/policies-and-procedures/student-attendance-policy', 'Source: www.udst.edu.qa - https://www.udst.edu.qa/about-udst/institutional-excellence-ie/policies-and-procedures/student-attendance-policy', 'Source: www.udst.edu.qa - https://www.udst.edu.qa/about-udst/institutional-excellence-ie/policies-and-procedures/student-attendance-policy', 'Source: www.udst.edu.qa - https://www.udst.edu.qa/about-udst/institutional-excellence-ie/policies-and-procedures/student-attendance-policy', 'Source: www.udst.edu.qa - https://www.udst.edu.qa/about-udst/institutional-excellence-ie/policies-and-procedures/student-attendance-policy', 'Source: www.udst.edu.qa - https://www.udst.edu.qa/about-udst/institutional-excellence-ie/policies-and-procedures/student-attendance-policy', 'Source: www.udst.edu.qa - https://www.udst.edu.qa/about-udst/institutional-excellence-ie/policies-and-procedures/final-grade-policy', 'Source: www.udst.edu.qa - https://www.udst.edu.qa/about-udst/institutional-excellence-ie/policies-and-procedures/final-grade-policy', 'Source: www.udst.edu.qa - https://www.udst.edu.qa/about-udst/institutional-excellence-ie/policies-and-procedures/final-grade-policy', 'Source: www.udst.edu.qa - https://www.udst.edu.qa/about-udst/institutional-excellence-ie/policies-and-procedures/final-grade-policy', 'Source: www.udst.edu.qa - https://www.udst.edu.qa/about-udst/institutional-excellence-ie/policies-and-procedures/final-grade-policy', 'Source: www.udst.edu.qa - https://www.udst.edu.qa/about-udst/institutional-excellence-ie/policies-and-procedures/final-grade-policy', 'Source: www.udst.edu.qa - https://www.udst.edu.qa/about-udst/institutional-excellence-ie/policies-and-procedures/final-grade-policy', 'Source: www.udst.edu.qa - https://www.udst.edu.qa/about-udst/institutional-excellence-ie/policies-and-procedures/final-grade-policy', 'Source: www.udst.edu.qa - https://www.udst.edu.qa/about-udst/institutional-excellence-ie/policies-and-procedures/final-grade-policy', 'Source: www.udst.edu.qa - https://www.udst.edu.qa/about-udst/institutional-excellence-ie/policies-and-procedures/final-grade-policy', 'Source: www.udst.edu.qa - https://www.udst.edu.qa/about-udst/institutional-excellence-ie/policies-and-procedures/final-grade-policy', 'Source: www.udst.edu.qa - https://www.udst.edu.qa/about-udst/institutional-excellence-ie/policies-and-procedures/final-grade-policy', 'Source: www.udst.edu.qa - https://www.udst.edu.qa/about-udst/institutional-excellence-ie/policies-and-procedures/final-grade-policy', 'Source: www.udst.edu.qa - https://www.udst.edu.qa/about-udst/institutional-excellence-ie/policies-and-procedures/final-grade-policy', 'Source: www.udst.edu.qa - https://www.udst.edu.qa/about-udst/institutional-excellence-ie/policies-and-procedures/final-grade-policy', 'Source: www.udst.edu.qa - https://www.udst.edu.qa/about-udst/institutional-excellence-ie/policies-and-procedures/final-grade-policy', 'Source: www.udst.edu.qa - https://www.udst.edu.qa/about-udst/institutional-excellence-ie/policies-and-procedures/final-grade-policy', 'Source: www.udst.edu.qa - https://www.udst.edu.qa/about-udst/institutional-excellence-ie/policies-and-procedures/final-grade-policy', 'Source: www.udst.edu.qa - https://www.udst.edu.qa/about-udst/institutional-excellence-ie/policies-and-procedures/final-grade-policy', 'Source: www.udst.edu.qa - https://www.udst.edu.qa/about-udst/institutional-excellence-ie/policies-and-procedures/final-grade-policy', 'Source: www.udst.edu.qa - https://www.udst.edu.qa/about-udst/institutional-excellence-ie/policies-and-procedures/final-grade-policy', 'Source: www.udst.edu.qa - https://www.udst.edu.qa/about-udst/institutional-excellence-ie/policies-and-procedures/final-grade-policy', 'Source: www.udst.edu.qa - https://www.udst.edu.qa/about-udst/institutional-excellence-ie/policies-and-procedures/final-grade-policy', 'Source: www.udst.edu.qa - https://www.udst.edu.qa/about-udst/institutional-excellence-ie/policies-and-procedures/final-grade-policy', 'Source: www.udst.edu.qa - https://www.udst.edu.qa/about-udst/institutional-excellence-ie/policies-and-procedures/final-grade-policy', 'Source: www.udst.edu.qa - https://www.udst.edu.qa/about-udst/institutional-excellence-ie/policies-and-procedures/final-grade-policy', 'Source: www.udst.edu.qa - https://www.udst.edu.qa/about-udst/institutional-excellence-ie/policies-and-procedures/final-grade-policy', 'Source: www.udst.edu.qa - https://www.udst.edu.qa/about-udst/institutional-excellence-ie/policies-and-procedures/final-grade-policy', 'Source: www.udst.edu.qa - https://www.udst.edu.qa/about-udst/institutional-excellence-ie/policies-and-procedures/final-grade-policy', 'Source: www.udst.edu.qa - https://www.udst.edu.qa/about-udst/institutional-excellence-ie/policies-and-procedures/final-grade-policy', 'Source: www.udst.edu.qa - https://www.udst.edu.qa/about-udst/institutional-excellence-ie/policies-and-procedures/final-grade-policy', 'Source: www.udst.edu.qa - https://www.udst.edu.qa/about-udst/institutional-excellence-ie/policies-and-procedures/final-grade-policy', 'Source: www.udst.edu.qa - https://www.udst.edu.qa/about-udst/institutional-excellence-ie/policies-and-procedures/final-grade-policy', 'Source: www.udst.edu.qa - https://www.udst.edu.qa/about-udst/institutional-excellence-ie/policies-and-procedures/final-grade-policy', 'Source: www.udst.edu.qa - https://www.udst.edu.qa/about-udst/institutional-excellence-ie/policies-and-procedures/final-grade-policy', 'Source: www.udst.edu.qa - https://www.udst.edu.qa/about-udst/institutional-excellence-ie/policies-and-procedures/final-grade-policy', 'Source: www.udst.edu.qa - https://www.udst.edu.qa/about-udst/institutional-excellence-ie/policies-and-procedures/final-grade-policy', 'Source: www.udst.edu.qa - https://www.udst.edu.qa/about-udst/institutional-excellence-ie/policies-and-procedures/final-grade-policy', 'Source: www.udst.edu.qa - https://www.udst.edu.qa/about-udst/institutional-excellence-ie/policies-and-procedures/final-grade-policy', 'Source: www.udst.edu.qa - https://www.udst.edu.qa/about-udst/institutional-excellence-ie/policies-and-procedures/student-conduct-policy', 'Source: www.udst.edu.qa - https://www.udst.edu.qa/about-udst/institutional-excellence-ie/policies-and-procedures/student-conduct-policy', 'Source: www.udst.edu.qa - https://www.udst.edu.qa/about-udst/institutional-excellence-ie/policies-and-procedures/student-conduct-policy', 'Source: www.udst.edu.qa - https://www.udst.edu.qa/about-udst/institutional-excellence-ie/policies-and-procedures/student-conduct-policy', 'Source: www.udst.edu.qa - https://www.udst.edu.qa/about-udst/institutional-excellence-ie/policies-and-procedures/student-conduct-policy', 'Source: www.udst.edu.qa - https://www.udst.edu.qa/about-udst/institutional-excellence-ie/policies-and-procedures/student-conduct-policy', 'Source: www.udst.edu.qa - https://www.udst.edu.qa/about-udst/institutional-excellence-ie/policies-and-procedures/student-conduct-policy', 'Source: www.udst.edu.qa - https://www.udst.edu.qa/about-udst/institutional-excellence-ie/policies-and-procedures/student-conduct-policy', 'Source: www.udst.edu.qa - https://www.udst.edu.qa/about-udst/institutional-excellence-ie/policies-and-procedures/student-conduct-policy', 'Source: www.udst.edu.qa - https://www.udst.edu.qa/about-udst/institutional-excellence-ie/policies-and-procedures/student-conduct-policy', 'Source: www.udst.edu.qa - https://www.udst.edu.qa/about-udst/institutional-excellence-ie/policies-and-procedures/student-conduct-policy', 'Source: www.udst.edu.qa - https://www.udst.edu.qa/about-udst/institutional-excellence-ie/policies-and-procedures/student-conduct-policy', 'Source: www.udst.edu.qa - https://www.udst.edu.qa/about-udst/institutional-excellence-ie/policies-and-procedures/student-conduct-policy', 'Source: www.udst.edu.qa - https://www.udst.edu.qa/about-udst/institutional-excellence-ie/policies-and-procedures/student-conduct-policy', 'Source: www.udst.edu.qa - https://www.udst.edu.qa/about-udst/institutional-excellence-ie/policies-and-procedures/student-conduct-policy', 'Source: www.udst.edu.qa - https://www.udst.edu.qa/about-udst/institutional-excellence-ie/policies-and-procedures/student-conduct-policy', 'Source: www.udst.edu.qa - https://www.udst.edu.qa/about-udst/institutional-excellence-ie/policies-and-procedures/student-conduct-policy', 'Source: www.udst.edu.qa - https://www.udst.edu.qa/about-udst/institutional-excellence-ie/policies-and-procedures/student-conduct-policy', 'Source: www.udst.edu.qa - https://www.udst.edu.qa/about-udst/institutional-excellence-ie/policies-and-procedures/student-conduct-policy', 'Source: www.udst.edu.qa - https://www.udst.edu.qa/about-udst/institutional-excellence-ie/policies-and-procedures/student-conduct-policy', 'Source: www.udst.edu.qa - https://www.udst.edu.qa/about-udst/institutional-excellence-ie/policies-and-procedures/student-conduct-policy', 'Source: www.udst.edu.qa - https://www.udst.edu.qa/about-udst/institutional-excellence-ie/policies-and-procedures/student-conduct-policy', 'Source: www.udst.edu.qa - https://www.udst.edu.qa/about-udst/institutional-excellence-ie/policies-and-procedures/student-conduct-policy', 'Source: www.udst.edu.qa - https://www.udst.edu.qa/about-udst/institutional-excellence-ie/policies-and-procedures/student-conduct-policy', 'Source: www.udst.edu.qa - https://www.udst.edu.qa/about-udst/institutional-excellence-ie/policies-and-procedures/student-conduct-policy', 'Source: www.udst.edu.qa - https://www.udst.edu.qa/about-udst/institutional-excellence-ie/policies-and-procedures/student-conduct-policy', 'Source: www.udst.edu.qa - https://www.udst.edu.qa/about-udst/institutional-excellence-ie/policies-and-procedures/student-conduct-policy', 'Source: www.udst.edu.qa - https://www.udst.edu.qa/about-udst/institutional-excellence-ie/policies-and-procedures/student-conduct-policy', 'Source: www.udst.edu.qa - https://www.udst.edu.qa/about-udst/institutional-excellence-ie/policies-and-procedures/student-conduct-policy', 'Source: www.udst.edu.qa - https://www.udst.edu.qa/about-udst/institutional-excellence-ie/policies-and-procedures/student-conduct-policy', 'Source: www.udst.edu.qa - https://www.udst.edu.qa/about-udst/institutional-excellence-ie/policies-and-procedures/student-conduct-policy', 'Source: www.udst.edu.qa - https://www.udst.edu.qa/about-udst/institutional-excellence-ie/policies-and-procedures/student-conduct-policy', 'Source: www.udst.edu.qa - https://www.udst.edu.qa/about-udst/institutional-excellence-ie/policies-and-procedures/student-conduct-policy', 'Source: www.udst.edu.qa - https://www.udst.edu.qa/about-udst/institutional-excellence-ie/policies-and-procedures/student-conduct-policy', 'Source: www.udst.edu.qa - https://www.udst.edu.qa/about-udst/institutional-excellence-ie/policies-and-procedures/student-conduct-policy', 'Source: www.udst.edu.qa - https://www.udst.edu.qa/about-udst/institutional-excellence-ie/policies-and-procedures/student-conduct-policy', 'Source: www.udst.edu.qa - https://www.udst.edu.qa/about-udst/institutional-excellence-ie/policies-and-procedures/student-conduct-policy', 'Source: www.udst.edu.qa - https://www.udst.edu.qa/about-udst/institutional-excellence-ie/policies-and-procedures/student-conduct-policy', 'Source: www.udst.edu.qa - https://www.udst.edu.qa/about-udst/institutional-excellence-ie/policies-and-procedures/student-conduct-policy', 'Source: www.udst.edu.qa - https://www.udst.edu.qa/about-udst/institutional-excellence-ie/policies-and-procedures/student-conduct-policy', 'Source: www.udst.edu.qa - https://www.udst.edu.qa/about-udst/institutional-excellence-ie/policies-and-procedures/student-conduct-policy', 'Source: www.udst.edu.qa - https://www.udst.edu.qa/about-udst/institutional-excellence-ie/policies-and-procedures/student-conduct-policy', 'Source: www.udst.edu.qa - https://www.udst.edu.qa/about-udst/institutional-excellence-ie/policies-and-procedures/student-conduct-policy', 'Source: www.udst.edu.qa - https://www.udst.edu.qa/about-udst/institutional-excellence-ie/policies-and-procedures/student-conduct-policy', 'Source: www.udst.edu.qa - https://www.udst.edu.qa/about-udst/institutional-excellence-ie/policies-and-procedures/student-conduct-policy', 'Source: www.udst.edu.qa - https://www.udst.edu.qa/about-udst/institutional-excellence-ie/policies-and-procedures/student-conduct-policy', 'Source: www.udst.edu.qa - https://www.udst.edu.qa/about-udst/institutional-excellence-ie/policies-and-procedures/student-conduct-policy', 'Source: www.udst.edu.qa - https://www.udst.edu.qa/about-udst/institutional-excellence-ie/policies-and-procedures/student-conduct-policy', 'Source: www.udst.edu.qa - https://www.udst.edu.qa/about-udst/institutional-excellence-ie/policies-and-procedures/student-conduct-policy', 'Source: www.udst.edu.qa - https://www.udst.edu.qa/about-udst/institutional-excellence-ie/policies-and-procedures/student-conduct-policy', 'Source: www.udst.edu.qa - https://www.udst.edu.qa/about-udst/institutional-excellence-ie/policies-and-procedures/student-conduct-policy', 'Source: www.udst.edu.qa - https://www.udst.edu.qa/about-udst/institutional-excellence-ie/policies-and-procedures/student-conduct-policy', 'Source: www.udst.edu.qa - https://www.udst.edu.qa/about-udst/institutional-excellence-ie/policies-and-procedures/student-conduct-policy', 'Source: www.udst.edu.qa - https://www.udst.edu.qa/about-udst/institutional-excellence-ie/policies-and-procedures/student-conduct-policy', 'Source: www.udst.edu.qa - https://www.udst.edu.qa/about-udst/institutional-excellence-ie/policies-and-procedures/student-conduct-policy', 'Source: www.udst.edu.qa - https://www.udst.edu.qa/about-udst/institutional-excellence-ie/policies-and-procedures/student-conduct-policy', 'Source: www.udst.edu.qa - https://www.udst.edu.qa/about-udst/institutional-excellence-ie/policies-and-procedures/student-conduct-policy', 'Source: www.udst.edu.qa - https://www.udst.edu.qa/about-udst/institutional-excellence-ie/policies-and-procedures/student-conduct-policy', 'Source: www.udst.edu.qa - https://www.udst.edu.qa/about-udst/institutional-excellence-ie/policies-and-procedures/student-conduct-policy', 'Source: www.udst.edu.qa - https://www.udst.edu.qa/about-udst/institutional-excellence-ie/policies-and-procedures/student-conduct-policy', 'Source: www.udst.edu.qa - https://www.udst.edu.qa/about-udst/institutional-excellence-ie/policies-and-procedures/student-conduct-policy', 'Source: www.udst.edu.qa - https://www.udst.edu.qa/about-udst/institutional-excellence-ie/policies-and-procedures/student-conduct-policy', 'Source: www.udst.edu.qa - https://www.udst.edu.qa/about-udst/institutional-excellence-ie/policies-and-procedures/student-conduct-policy', 'Source: www.udst.edu.qa - https://www.udst.edu.qa/about-udst/institutional-excellence-ie/policies-and-procedures/student-conduct-policy', 'Source: www.udst.edu.qa - https://www.udst.edu.qa/about-udst/institutional-excellence-ie/policies-and-procedures/student-conduct-policy', 'Source: www.udst.edu.qa - https://www.udst.edu.qa/about-udst/institutional-excellence-ie/policies-and-procedures/student-conduct-policy', 'Source: www.udst.edu.qa - https://www.udst.edu.qa/about-udst/institutional-excellence-ie/policies-and-procedures/student-conduct-policy', 'Source: www.udst.edu.qa - https://www.udst.edu.qa/about-udst/institutional-excellence-ie/udst-policies-and-procedures/academic-schedule-policy', 'Source: www.udst.edu.qa - https://www.udst.edu.qa/about-udst/institutional-excellence-ie/udst-policies-and-procedures/academic-schedule-policy', 'Source: www.udst.edu.qa - https://www.udst.edu.qa/about-udst/institutional-excellence-ie/udst-policies-and-procedures/academic-schedule-policy', 'Source: www.udst.edu.qa - https://www.udst.edu.qa/about-udst/institutional-excellence-ie/udst-policies-and-procedures/academic-schedule-policy', 'Source: www.udst.edu.qa - https://www.udst.edu.qa/about-udst/institutional-excellence-ie/udst-policies-and-procedures/academic-schedule-policy', 'Source: www.udst.edu.qa - https://www.udst.edu.qa/about-udst/institutional-excellence-ie/udst-policies-and-procedures/academic-schedule-policy', 'Source: www.udst.edu.qa - https://www.udst.edu.qa/about-udst/institutional-excellence-ie/udst-policies-and-procedures/academic-schedule-policy', 'Source: www.udst.edu.qa - https://www.udst.edu.qa/about-udst/institutional-excellence-ie/udst-policies-and-procedures/academic-schedule-policy', 'Source: www.udst.edu.qa - https://www.udst.edu.qa/about-udst/institutional-excellence-ie/udst-policies-and-procedures/academic-schedule-policy', 'Source: www.udst.edu.qa - https://www.udst.edu.qa/about-udst/institutional-excellence-ie/udst-policies-and-procedures/academic-schedule-policy', 'Source: www.udst.edu.qa - https://www.udst.edu.qa/about-udst/institutional-excellence-ie/udst-policies-and-procedures/academic-schedule-policy', 'Source: www.udst.edu.qa - https://www.udst.edu.qa/about-udst/institutional-excellence-ie/udst-policies-and-procedures/academic-schedule-policy', 'Source: www.udst.edu.qa - https://www.udst.edu.qa/about-udst/institutional-excellence-ie/udst-policies-and-procedures/academic-schedule-policy', 'Source: www.udst.edu.qa - https://www.udst.edu.qa/about-udst/institutional-excellence-ie/udst-policies-and-procedures/academic-schedule-policy', 'Source: www.udst.edu.qa - https://www.udst.edu.qa/about-udst/institutional-excellence-ie/udst-policies-and-procedures/academic-schedule-policy', 'Source: www.udst.edu.qa - https://www.udst.edu.qa/about-udst/institutional-excellence-ie/udst-policies-and-procedures/academic-schedule-policy', 'Source: www.udst.edu.qa - https://www.udst.edu.qa/about-udst/institutional-excellence-ie/udst-policies-and-procedures/academic-schedule-policy', 'Source: www.udst.edu.qa - https://www.udst.edu.qa/about-udst/institutional-excellence-ie/policies-and-procedures/student-appeals-policy', 'Source: www.udst.edu.qa - https://www.udst.edu.qa/about-udst/institutional-excellence-ie/policies-and-procedures/student-appeals-policy', 'Source: www.udst.edu.qa - https://www.udst.edu.qa/about-udst/institutional-excellence-ie/policies-and-procedures/student-appeals-policy', 'Source: www.udst.edu.qa - https://www.udst.edu.qa/about-udst/institutional-excellence-ie/policies-and-procedures/student-appeals-policy', 'Source: www.udst.edu.qa - https://www.udst.edu.qa/about-udst/institutional-excellence-ie/policies-and-procedures/student-appeals-policy', 'Source: www.udst.edu.qa - https://www.udst.edu.qa/about-udst/institutional-excellence-ie/policies-and-procedures/student-appeals-policy', 'Source: www.udst.edu.qa - https://www.udst.edu.qa/about-udst/institutional-excellence-ie/policies-and-procedures/student-appeals-policy', 'Source: www.udst.edu.qa - https://www.udst.edu.qa/about-udst/institutional-excellence-ie/policies-and-procedures/student-appeals-policy', 'Source: www.udst.edu.qa - https://www.udst.edu.qa/about-udst/institutional-excellence-ie/policies-and-procedures/student-appeals-policy', 'Source: www.udst.edu.qa - https://www.udst.edu.qa/about-udst/institutional-excellence-ie/policies-and-procedures/student-appeals-policy', 'Source: www.udst.edu.qa - https://www.udst.edu.qa/about-udst/institutional-excellence-ie/policies-and-procedures/student-appeals-policy', 'Source: www.udst.edu.qa - https://www.udst.edu.qa/about-udst/institutional-excellence-ie/policies-and-procedures/transfer-policy', 'Source: www.udst.edu.qa - https://www.udst.edu.qa/about-udst/institutional-excellence-ie/policies-and-procedures/transfer-policy', 'Source: www.udst.edu.qa - https://www.udst.edu.qa/about-udst/institutional-excellence-ie/policies-and-procedures/transfer-policy', 'Source: www.udst.edu.qa - https://www.udst.edu.qa/about-udst/institutional-excellence-ie/policies-and-procedures/transfer-policy', 'Source: www.udst.edu.qa - https://www.udst.edu.qa/about-udst/institutional-excellence-ie/policies-and-procedures/transfer-policy', 'Source: www.udst.edu.qa - https://www.udst.edu.qa/about-udst/institutional-excellence-ie/policies-and-procedures/transfer-policy', 'Source: www.udst.edu.qa - https://www.udst.edu.qa/about-udst/institutional-excellence-ie/policies-and-procedures/transfer-policy', 'Source: www.udst.edu.qa - https://www.udst.edu.qa/about-udst/institutional-excellence-ie/policies-and-procedures/transfer-policy', 'Source: www.udst.edu.qa - https://www.udst.edu.qa/about-udst/institutional-excellence-ie/policies-and-procedures/transfer-policy', 'Source: www.udst.edu.qa - https://www.udst.edu.qa/about-udst/institutional-excellence-ie/policies-and-procedures/transfer-policy', 'Source: www.udst.edu.qa - https://www.udst.edu.qa/about-udst/institutional-excellence-ie/policies-and-procedures/transfer-policy', 'Source: www.udst.edu.qa - https://www.udst.edu.qa/about-udst/institutional-excellence-ie/policies-and-procedures/transfer-policy', 'Source: www.udst.edu.qa - https://www.udst.edu.qa/about-udst/institutional-excellence-ie/policies-and-procedures/transfer-policy', 'Source: www.udst.edu.qa - https://www.udst.edu.qa/about-udst/institutional-excellence-ie/policies-and-procedures/transfer-policy', 'Source: www.udst.edu.qa - https://www.udst.edu.qa/about-udst/institutional-excellence-ie/policies-and-procedures/transfer-policy', 'Source: www.udst.edu.qa - https://www.udst.edu.qa/about-udst/institutional-excellence-ie/policies-and-procedures/transfer-policy', 'Source: www.udst.edu.qa - https://www.udst.edu.qa/about-udst/institutional-excellence-ie/policies-and-procedures/transfer-policy', 'Source: www.udst.edu.qa - https://www.udst.edu.qa/about-udst/institutional-excellence-ie/policies-and-procedures/transfer-policy', 'Source: www.udst.edu.qa - https://www.udst.edu.qa/about-udst/institutional-excellence-ie/policies-and-procedures/transfer-policy', 'Source: www.udst.edu.qa - https://www.udst.edu.qa/about-udst/institutional-excellence-ie/policies-and-procedures/transfer-policy', 'Source: www.udst.edu.qa - https://www.udst.edu.qa/about-udst/institutional-excellence-ie/policies-and-procedures/admissions-policy', 'Source: www.udst.edu.qa - https://www.udst.edu.qa/about-udst/institutional-excellence-ie/policies-and-procedures/admissions-policy', 'Source: www.udst.edu.qa - https://www.udst.edu.qa/about-udst/institutional-excellence-ie/policies-and-procedures/admissions-policy', 'Source: www.udst.edu.qa - https://www.udst.edu.qa/about-udst/institutional-excellence-ie/policies-and-procedures/admissions-policy', 'Source: www.udst.edu.qa - https://www.udst.edu.qa/about-udst/institutional-excellence-ie/policies-and-procedures/admissions-policy', 'Source: www.udst.edu.qa - https://www.udst.edu.qa/about-udst/institutional-excellence-ie/policies-and-procedures/admissions-policy', 'Source: www.udst.edu.qa - https://www.udst.edu.qa/about-udst/institutional-excellence-ie/policies-and-procedures/admissions-policy', 'Source: www.udst.edu.qa - https://www.udst.edu.qa/about-udst/institutional-excellence-ie/policies-and-procedures/admissions-policy', 'Source: www.udst.edu.qa - https://www.udst.edu.qa/about-udst/institutional-excellence-ie/policies-and-procedures/admissions-policy', 'Source: www.udst.edu.qa - https://www.udst.edu.qa/about-udst/institutional-excellence-ie/policies-and-procedures/admissions-policy', 'Source: www.udst.edu.qa - https://www.udst.edu.qa/about-udst/institutional-excellence-ie/policies-and-procedures/admissions-policy', 'Source: www.udst.edu.qa - https://www.udst.edu.qa/about-udst/institutional-excellence-ie/policies-and-procedures/admissions-policy', 'Source: www.udst.edu.qa - https://www.udst.edu.qa/about-udst/institutional-excellence-ie/policies-and-procedures/admissions-policy', 'Source: www.udst.edu.qa - https://www.udst.edu.qa/about-udst/institutional-excellence-ie/policies-and-procedures/admissions-policy', 'Source: www.udst.edu.qa - https://www.udst.edu.qa/about-udst/institutional-excellence-ie/policies-and-procedures/admissions-policy', 'Source: www.udst.edu.qa - https://www.udst.edu.qa/about-udst/institutional-excellence-ie/policies-and-procedures/admissions-policy', 'Source: www.udst.edu.qa - https://www.udst.edu.qa/about-udst/institutional-excellence-ie/policies-and-procedures/admissions-policy', 'Source: www.udst.edu.qa - https://www.udst.edu.qa/about-udst/institutional-excellence-ie/policies-and-procedures/admissions-policy', 'Source: www.udst.edu.qa - https://www.udst.edu.qa/about-udst/institutional-excellence-ie/policies-and-procedures/admissions-policy', 'Source: www.udst.edu.qa - https://www.udst.edu.qa/about-udst/institutional-excellence-ie/policies-and-procedures/admissions-policy', 'Source: www.udst.edu.qa - https://www.udst.edu.qa/about-udst/institutional-excellence-ie/policies-and-procedures/admissions-policy', 'Source: www.udst.edu.qa - https://www.udst.edu.qa/about-udst/institutional-excellence-ie/policies-and-procedures/admissions-policy', 'Source: www.udst.edu.qa - https://www.udst.edu.qa/about-udst/institutional-excellence-ie/policies-and-procedures/admissions-policy', 'Source: www.udst.edu.qa - https://www.udst.edu.qa/about-udst/institutional-excellence-ie/policies-and-procedures/admissions-policy', 'Source: www.udst.edu.qa - https://www.udst.edu.qa/about-udst/institutional-excellence-ie/policies-and-procedures/admissions-policy', 'Source: www.udst.edu.qa - https://www.udst.edu.qa/about-udst/institutional-excellence-ie/policies-and-procedures/admissions-policy', 'Source: www.udst.edu.qa - https://www.udst.edu.qa/about-udst/institutional-excellence-ie/policies-and-procedures/admissions-policy', 'Source: www.udst.edu.qa - https://www.udst.edu.qa/about-udst/institutional-excellence-ie/policies-and-procedures/admissions-policy', 'Source: www.udst.edu.qa - https://www.udst.edu.qa/about-udst/institutional-excellence-ie/policies-and-procedures/admissions-policy', 'Source: www.udst.edu.qa - https://www.udst.edu.qa/about-udst/institutional-excellence-ie/policies-and-procedures/admissions-policy', 'Source: www.udst.edu.qa - https://www.udst.edu.qa/about-udst/institutional-excellence-ie/policies-and-procedures/admissions-policy', 'Source: www.udst.edu.qa - https://www.udst.edu.qa/about-udst/institutional-excellence-ie/policies-and-procedures/admissions-policy', 'Source: www.udst.edu.qa - https://www.udst.edu.qa/about-udst/institutional-excellence-ie/policies-and-procedures/admissions-policy', 'Source: www.udst.edu.qa - https://www.udst.edu.qa/about-udst/institutional-excellence-ie/policies-and-procedures/admissions-policy', 'Source: www.udst.edu.qa - https://www.udst.edu.qa/about-udst/institutional-excellence-ie/policies-and-procedures/admissions-policy', 'Source: www.udst.edu.qa - https://www.udst.edu.qa/about-udst/institutional-excellence-ie/policies-and-procedures/admissions-policy', 'Source: www.udst.edu.qa - https://www.udst.edu.qa/about-udst/institutional-excellence-ie/policies-and-procedures/admissions-policy', 'Source: www.udst.edu.qa - https://www.udst.edu.qa/about-udst/institutional-excellence-ie/policies-and-procedures/admissions-policy', 'Source: www.udst.edu.qa - https://www.udst.edu.qa/about-udst/institutional-excellence-ie/policies-and-procedures/admissions-policy', 'Source: www.udst.edu.qa - https://www.udst.edu.qa/about-udst/institutional-excellence-ie/policies-and-procedures/admissions-policy', 'Source: www.udst.edu.qa - https://www.udst.edu.qa/about-udst/institutional-excellence-ie/policies-and-procedures/admissions-policy', 'Source: www.udst.edu.qa - https://www.udst.edu.qa/about-udst/institutional-excellence-ie/policies-and-procedures/admissions-policy', 'Source: www.udst.edu.qa - https://www.udst.edu.qa/about-udst/institutional-excellence-ie/policies-and-procedures/admissions-policy', 'Source: www.udst.edu.qa - https://www.udst.edu.qa/about-udst/institutional-excellence-ie/policies-and-procedures/admissions-policy', 'Source: www.udst.edu.qa - https://www.udst.edu.qa/about-udst/institutional-excellence-ie/policies-and-procedures/admissions-policy', 'Source: www.udst.edu.qa - https://www.udst.edu.qa/about-udst/institutional-excellence-ie/policies-and-procedures/admissions-policy', 'Source: www.udst.edu.qa - https://www.udst.edu.qa/about-udst/institutional-excellence-ie/policies-and-procedures/admissions-policy', 'Source: www.udst.edu.qa - https://www.udst.edu.qa/about-udst/institutional-excellence-ie/policies-and-procedures/admissions-policy', 'Source: www.udst.edu.qa - https://www.udst.edu.qa/about-udst/institutional-excellence-ie/policies-and-procedures/admissions-policy', 'Source: www.udst.edu.qa - https://www.udst.edu.qa/about-udst/institutional-excellence-ie/policies-and-procedures/admissions-policy', 'Source: www.udst.edu.qa - https://www.udst.edu.qa/about-udst/institutional-excellence-ie/policies-and-procedures/admissions-policy', 'Source: www.udst.edu.qa - https://www.udst.edu.qa/about-udst/institutional-excellence-ie/policies-and-procedures/admissions-policy', 'Source: www.udst.edu.qa - https://www.udst.edu.qa/about-udst/institutional-excellence-ie/policies-and-procedures/admissions-policy', 'Source: www.udst.edu.qa - https://www.udst.edu.qa/about-udst/institutional-excellence-ie/policies-and-procedures/admissions-policy', 'Source: www.udst.edu.qa - https://www.udst.edu.qa/about-udst/institutional-excellence-ie/policies-and-procedures/admissions-policy', 'Source: www.udst.edu.qa - https://www.udst.edu.qa/about-udst/institutional-excellence-ie/policies-and-procedures/admissions-policy', 'Source: www.udst.edu.qa - https://www.udst.edu.qa/about-udst/institutional-excellence-ie/policies-and-procedures/admissions-policy', 'Source: www.udst.edu.qa - https://www.udst.edu.qa/about-udst/institutional-excellence-ie/policies-and-procedures/admissions-policy', 'Source: www.udst.edu.qa - https://www.udst.edu.qa/about-udst/institutional-excellence-ie/policies-and-procedures/registration-policy', 'Source: www.udst.edu.qa - https://www.udst.edu.qa/about-udst/institutional-excellence-ie/policies-and-procedures/registration-policy', 'Source: www.udst.edu.qa - https://www.udst.edu.qa/about-udst/institutional-excellence-ie/policies-and-procedures/registration-policy', 'Source: www.udst.edu.qa - https://www.udst.edu.qa/about-udst/institutional-excellence-ie/policies-and-procedures/registration-policy', 'Source: www.udst.edu.qa - https://www.udst.edu.qa/about-udst/institutional-excellence-ie/policies-and-procedures/registration-policy', 'Source: www.udst.edu.qa - https://www.udst.edu.qa/about-udst/institutional-excellence-ie/policies-and-procedures/registration-policy', 'Source: www.udst.edu.qa - https://www.udst.edu.qa/about-udst/institutional-excellence-ie/policies-and-procedures/registration-policy', 'Source: www.udst.edu.qa - https://www.udst.edu.qa/about-udst/institutional-excellence-ie/policies-and-procedures/registration-policy', 'Source: www.udst.edu.qa - https://www.udst.edu.qa/about-udst/institutional-excellence-ie/policies-and-procedures/registration-policy', 'Source: www.udst.edu.qa - https://www.udst.edu.qa/about-udst/institutional-excellence-ie/policies-and-procedures/registration-policy', 'Source: www.udst.edu.qa - https://www.udst.edu.qa/about-udst/institutional-excellence-ie/policies-and-procedures/registration-policy', 'Source: www.udst.edu.qa - https://www.udst.edu.qa/about-udst/institutional-excellence-ie/policies-and-procedures/registration-policy', 'Source: www.udst.edu.qa - https://www.udst.edu.qa/about-udst/institutional-excellence-ie/policies-and-procedures/registration-policy', 'Source: www.udst.edu.qa - https://www.udst.edu.qa/about-udst/institutional-excellence-ie/policies-and-procedures/registration-policy', 'Source: www.udst.edu.qa - https://www.udst.edu.qa/about-udst/institutional-excellence-ie/policies-and-procedures/registration-policy', 'Source: www.udst.edu.qa - https://www.udst.edu.qa/about-udst/institutional-excellence-ie/policies-and-procedures/registration-policy', 'Source: www.udst.edu.qa - https://www.udst.edu.qa/about-udst/institutional-excellence-ie/policies-and-procedures/registration-policy', 'Source: www.udst.edu.qa - https://www.udst.edu.qa/about-udst/institutional-excellence-ie/policies-and-procedures/registration-policy', 'Source: www.udst.edu.qa - https://www.udst.edu.qa/about-udst/institutional-excellence-ie/policies-and-procedures/registration-policy', 'Source: www.udst.edu.qa - https://www.udst.edu.qa/about-udst/institutional-excellence-ie/policies-and-procedures/registration-policy', 'Source: www.udst.edu.qa - https://www.udst.edu.qa/about-udst/institutional-excellence-ie/policies-and-procedures/registration-policy', 'Source: www.udst.edu.qa - https://www.udst.edu.qa/about-udst/institutional-excellence-ie/policies-and-procedures/registration-policy', 'Source: www.udst.edu.qa - https://www.udst.edu.qa/about-udst/institutional-excellence-ie/policies-and-procedures/registration-policy', 'Source: www.udst.edu.qa - https://www.udst.edu.qa/about-udst/institutional-excellence-ie/policies-and-procedures/registration-policy', 'Source: www.udst.edu.qa - https://www.udst.edu.qa/about-udst/institutional-excellence-ie/udst-policies-and-procedures/graduation-policy', 'Source: www.udst.edu.qa - https://www.udst.edu.qa/about-udst/institutional-excellence-ie/udst-policies-and-procedures/graduation-policy', 'Source: www.udst.edu.qa - https://www.udst.edu.qa/about-udst/institutional-excellence-ie/udst-policies-and-procedures/graduation-policy', 'Source: www.udst.edu.qa - https://www.udst.edu.qa/about-udst/institutional-excellence-ie/udst-policies-and-procedures/graduation-policy', 'Source: www.udst.edu.qa - https://www.udst.edu.qa/about-udst/institutional-excellence-ie/udst-policies-and-procedures/graduation-policy', 'Source: www.udst.edu.qa - https://www.udst.edu.qa/about-udst/institutional-excellence-ie/udst-policies-and-procedures/graduation-policy', 'Source: www.udst.edu.qa - https://www.udst.edu.qa/about-udst/institutional-excellence-ie/udst-policies-and-procedures/graduation-policy', 'Source: www.udst.edu.qa - https://www.udst.edu.qa/about-udst/institutional-excellence-ie/udst-policies-and-procedures/graduation-policy', 'Source: www.udst.edu.qa - https://www.udst.edu.qa/about-udst/institutional-excellence-ie/udst-policies-and-procedures/graduation-policy', 'Source: www.udst.edu.qa - https://www.udst.edu.qa/about-udst/institutional-excellence-ie/udst-policies-and-procedures/graduation-policy', 'Source: www.udst.edu.qa - https://www.udst.edu.qa/about-udst/institutional-excellence-ie/udst-policies-and-procedures/graduation-policy', 'Source: www.udst.edu.qa - https://www.udst.edu.qa/about-udst/institutional-excellence-ie/udst-policies-and-procedures/graduation-policy', 'Source: www.udst.edu.qa - https://www.udst.edu.qa/about-udst/institutional-excellence-ie/udst-policies-and-procedures/graduation-policy', 'Source: www.udst.edu.qa - https://www.udst.edu.qa/about-udst/institutional-excellence-ie/udst-policies-and-procedures/graduation-policy', 'Source: www.udst.edu.qa - https://www.udst.edu.qa/about-udst/institutional-excellence-ie/udst-policies-and-procedures/graduation-policy', 'Source: www.udst.edu.qa - https://www.udst.edu.qa/about-udst/institutional-excellence-ie/udst-policies-and-procedures/graduation-policy']\n"
          ]
        }
      ],
      "source": [
        "# Get embeddings for all chunks\n",
        "text_embeddings = get_text_embedding(chunks)\n",
        "\n",
        "# Filter out any failed embeddings\n",
        "valid_embeddings = []\n",
        "valid_chunks = []\n",
        "valid_sources = []\n",
        "\n",
        "for i, embedding in enumerate(text_embeddings):\n",
        "    if embedding is not None:\n",
        "        valid_embeddings.append(embedding.embedding)\n",
        "        valid_chunks.append(chunks[i])\n",
        "        valid_sources.append(chunk_sources[i])\n",
        "\n",
        "# Convert to numpy array for FAISS\n",
        "print(valid_sources)\n",
        "embeddings = np.array(valid_embeddings)"
      ]
    },
    {
      "cell_type": "markdown",
      "metadata": {},
      "source": [
        "## Create and populate the vector database"
      ]
    },
    {
      "cell_type": "code",
      "execution_count": 46,
      "metadata": {},
      "outputs": [],
      "source": [
        "# Build the FAISS index\n",
        "d = len(valid_embeddings[0])  # Dimension of the embeddings\n",
        "index = faiss.IndexFlatL2(d)\n",
        "index.add(embeddings)"
      ]
    },
    {
      "cell_type": "markdown",
      "metadata": {},
      "source": [
        "## RAG Query Function"
      ]
    },
    {
      "cell_type": "code",
      "execution_count": 47,
      "metadata": {},
      "outputs": [],
      "source": [
        "def rag_query(question, k=3):\n",
        "    \"\"\"\n",
        "    Perform a complete RAG query pipeline:\n",
        "    1. Embed the question\n",
        "    2. Retrieve relevant chunks\n",
        "    3. Generate a response using the LLM\n",
        "    \"\"\"\n",
        "    # Get embedding for the question\n",
        "    question_embeddings = get_text_embedding([question])\n",
        "    \n",
        "    if not question_embeddings or question_embeddings[0] is None:\n",
        "        return \"Error: Could not generate embeddings for the question.\"\n",
        "    \n",
        "    query_embedding = np.array([question_embeddings[0].embedding])\n",
        "    \n",
        "    # Search for similar chunks\n",
        "    D, I = index.search(query_embedding, k=k)\n",
        "    \n",
        "    # Get the retrieved chunks and their sources\n",
        "    retrieved_chunks = [valid_chunks[i] for i in I.tolist()[0]]\n",
        "    retrieved_sources = [valid_sources[i] for i in I.tolist()[0]]\n",
        "    \n",
        "    # Format the context with source information\n",
        "    context = \"\"\n",
        "    for i, chunk in enumerate(retrieved_chunks):\n",
        "        context += f\"\\nChunk {i+1}:\\n{chunk}\\n{retrieved_sources[i]}\\n---\\n\"\n",
        "    \n",
        "    # Build the prompt for the LLM\n",
        "    prompt = f\"\"\"\n",
        "    You are given the following context information. Use it to answer the user's question accurately.\n",
        "    If the information needed is not in the context, please say \"I don't have enough information to answer this question.\"\n",
        "    \n",
        "    Context information:\n",
        "    ---------------------\n",
        "    {context}\n",
        "    ---------------------\n",
        "    \n",
        "    Question: {question}\n",
        "    \n",
        "    Please provide a comprehensive answer based solely on the context information provided.\n",
        "    Include references to the sources when appropriate.\n",
        "    \"\"\"\n",
        "    \n",
        "    # Generate response using Mistral\n",
        "    client = Mistral(api_key=api_key)\n",
        "    messages = [UserMessage(content=prompt)]\n",
        "    try:\n",
        "        chat_response = client.chat.complete(\n",
        "            model=\"mistral-large-latest\",  # You can change to a different model if needed\n",
        "            messages=messages,\n",
        "        )\n",
        "        response = chat_response.choices[0].message.content\n",
        "    except Exception as e:\n",
        "        response = f\"Error generating response: {str(e)}\"\n",
        "    \n",
        "    return response, context, retrieved_sources"
      ]
    },
    {
      "cell_type": "markdown",
      "metadata": {},
      "source": [
        "## Test the RAG system"
      ]
    },
    {
      "cell_type": "code",
      "execution_count": 48,
      "metadata": {},
      "outputs": [
        {
          "name": "stdout",
          "output_type": "stream",
          "text": [
            "Question: Can i not attend classes?\n",
            "\n",
            "Answer:\n",
            "Based on the context information provided, students are expected to attend classes regularly. Here are the key points:\n",
            "\n",
            "1. **Student Responsibility**: Students are responsible for regular and punctual attendance of all learning sessions and prescribed activities for the courses in which they are enrolled (Chunk 1).\n",
            "\n",
            "2. **Attendance Importance**: The university recognizes that regular attendance and participation in class is fundamental to student success (Chunk 2).\n",
            "\n",
            "3. **Attendance Standard**: The maximum allowable limit for absenteeism is 15% of learning sessions per course during a semester. Exceeding this limit may result in a failing grade for that course (Chunk 3).\n",
            "\n",
            "Therefore, while you can miss some classes, not attending classes regularly may lead to consequences, including a failing grade. It is important to adhere to the attendance policy as outlined by the university.\n",
            "\n",
            "Source:\n",
            "- www.udst.edu.qa - Student Attendance Policy\n"
          ]
        }
      ],
      "source": [
        "# Test with a sample question\n",
        "question = \"Can i not attend classes?\"\n",
        "response, context, sources = rag_query(question)\n",
        "\n",
        "print(f\"Question: {question}\\n\\nAnswer:\\n{response}\")"
      ]
    },
    {
      "cell_type": "markdown",
      "metadata": {},
      "source": [
        "## Save the RAG Components for Streamlit App"
      ]
    },
    {
      "cell_type": "code",
      "execution_count": 49,
      "metadata": {},
      "outputs": [],
      "source": [
        "import pickle\n",
        "\n",
        "# Save the index and associated data\n",
        "faiss.write_index(index, \"assets/rag_index.faiss\")\n",
        "\n",
        "with open(\"assets/rag_data.pkl\", \"wb\") as f:\n",
        "    pickle.dump({\n",
        "        \"chunks\": valid_chunks,\n",
        "        \"sources\": valid_sources,\n",
        "        \"api_key\": api_key\n",
        "    }, f)"
      ]
    }
  ],
  "metadata": {
    "kernelspec": {
      "display_name": "base",
      "language": "python",
      "name": "python3"
    },
    "language_info": {
      "codemirror_mode": {
        "name": "ipython",
        "version": 3
      },
      "file_extension": ".py",
      "mimetype": "text/x-python",
      "name": "python",
      "nbconvert_exporter": "python",
      "pygments_lexer": "ipython3",
      "version": "3.12.4"
    }
  },
  "nbformat": 4,
  "nbformat_minor": 2
}
